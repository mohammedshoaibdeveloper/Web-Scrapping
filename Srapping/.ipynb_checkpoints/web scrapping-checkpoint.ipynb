{
 "cells": [
  {
   "cell_type": "code",
   "execution_count": 1,
   "metadata": {},
   "outputs": [
    {
     "name": "stdout",
     "output_type": "stream",
     "text": [
      "TITLE IS : Sourcebits Accelerates Innovative Digital Transformation Solutions in India\n",
      "NAME    : description\n",
      "CONTENT : Sourcebits provides advanced data engineering, next-gen mobile apps, ominchannel customer experiences, UX/UI design, chatbots, and digital tech solutions.\n"
     ]
    }
   ],
   "source": [
    "from bs4 import BeautifulSoup\n",
    "import requests\n",
    "\n",
    "\n",
    "def main():\n",
    "    #r = requests.get('http://www.aurionpro.com/')\n",
    "    r = requests.get('https://colorlib.com/wp/free-education-website-templates/')\n",
    "    soup = BeautifulSoup(r.content, \"html\")\n",
    "\n",
    "    title = soup.title.string\n",
    "    print ('TITLE IS :', title)\n",
    "\n",
    "    meta = soup.find_all('meta')\n",
    "\n",
    "    for tag in meta:\n",
    "        if 'name' in tag.attrs.keys() and tag.attrs['name'].strip().lower() in ['description', 'keywords']:\n",
    "            print( 'NAME    :',tag.attrs['name'].lower())\n",
    "            print('CONTENT :',tag.attrs['content'])\n",
    "\n",
    "if __name__ == '__main__':\n",
    "    main()"
   ]
  },
  {
   "cell_type": "code",
   "execution_count": null,
   "metadata": {},
   "outputs": [],
   "source": []
  }
 ],
 "metadata": {
  "kernelspec": {
   "display_name": "Python 3",
   "language": "python",
   "name": "python3"
  },
  "language_info": {
   "codemirror_mode": {
    "name": "ipython",
    "version": 3
   },
   "file_extension": ".py",
   "mimetype": "text/x-python",
   "name": "python",
   "nbconvert_exporter": "python",
   "pygments_lexer": "ipython3",
   "version": "3.7.3"
  }
 },
 "nbformat": 4,
 "nbformat_minor": 2
}
