{
 "cells": [
  {
   "cell_type": "code",
   "execution_count": 2,
   "metadata": {},
   "outputs": [
    {
     "name": "stdout",
     "output_type": "stream",
     "text": [
      "TITLE IS : 26 Best Free Education Website Templates [HTML & WordPress] - Colorlib\n",
      "NAME    : description\n",
      "CONTENT : Following are the best free education website template for any type of educational institutions and education service providing businesses.\n"
     ]
    }
   ],
   "source": [
    "from bs4 import BeautifulSoup\n",
    "import requests\n",
    "\n",
    "\n",
    "def main():\n",
    "    #r = requests.get('http://www.aurionpro.com/')\n",
    "    r = requests.get('https://colorlib.com/wp/free-education-website-templates/')\n",
    "    soup = BeautifulSoup(r.content, \"html\")\n",
    "\n",
    "    title = soup.title.string\n",
    "    print ('TITLE IS :', title)\n",
    "\n",
    "    meta = soup.find_all('meta')\n",
    "\n",
    "    for tag in meta:\n",
    "        if 'name' in tag.attrs.keys() and tag.attrs['name'].strip().lower() in ['description', 'keywords']:\n",
    "            print( 'NAME    :',tag.attrs['name'].lower())\n",
    "            print('CONTENT :',tag.attrs['content'])\n",
    "\n",
    "if __name__ == '__main__':\n",
    "    main()"
   ]
  },
  {
   "cell_type": "code",
   "execution_count": 3,
   "metadata": {},
   "outputs": [
    {
     "name": "stdout",
     "output_type": "stream",
     "text": [
      "TITLE IS : 26 Best Free Education Website Templates [HTML & WordPress] - Colorlib\n",
      "[<meta charset=\"utf-8\"/>, <meta content=\"always\" name=\"referrer\"/>, <meta content=\"width=device-width, initial-scale=1\" name=\"viewport\"/>, <meta content=\"IE=edge\" http-equiv=\"X-UA-Compatible\"/>, <meta content=\"Following are the best free education website template for any type of educational institutions and education service providing businesses.\" name=\"description\"/>, <meta content=\"max-snippet:-1, max-image-preview:large, max-video-preview:-1\" name=\"robots\"/>, <meta content=\"en_US\" property=\"og:locale\"/>, <meta content=\"article\" property=\"og:type\"/>, <meta content=\"26 Best Free Education Website Templates [HTML &amp; WordPress] - Colorlib\" property=\"og:title\"/>, <meta content=\"Following are the best free education website template for any type of educational institutions and education service providing businesses.\" property=\"og:description\"/>, <meta content=\"https://colorlib.com/wp/free-education-website-templates/\" property=\"og:url\"/>, <meta content=\"Colorlib\" property=\"og:site_name\"/>, <meta content=\"https://www.facebook.com/colorlib\" property=\"article:publisher\"/>, <meta content=\"bootstrap templates\" property=\"article:tag\"/>, <meta content=\"CSS3\" property=\"article:tag\"/>, <meta content=\"Education\" property=\"article:tag\"/>, <meta content=\"HTML5\" property=\"article:tag\"/>, <meta content=\"Website templates\" property=\"article:tag\"/>, <meta content=\"WordPress Education Themes\" property=\"article:tag\"/>, <meta content=\"WordPress templates\" property=\"article:tag\"/>, <meta content=\"Website Templates\" property=\"article:section\"/>, <meta content=\"2020-02-12T14:38:51+00:00\" property=\"article:published_time\"/>, <meta content=\"2020-02-12T14:38:49+00:00\" property=\"article:modified_time\"/>, <meta content=\"2020-02-12T14:38:49+00:00\" property=\"og:updated_time\"/>, <meta content=\"https://colorlib.com/wp/wp-content/uploads/sites/2/free-education-website-templates.jpg\" property=\"og:image\"/>, <meta content=\"https://colorlib.com/wp/wp-content/uploads/sites/2/free-education-website-templates.jpg\" property=\"og:image:secure_url\"/>, <meta content=\"1200\" property=\"og:image:width\"/>, <meta content=\"846\" property=\"og:image:height\"/>, <meta content=\"summary_large_image\" name=\"twitter:card\"/>, <meta content=\"Following are the best free education website template for any type of educational institutions and education service providing businesses.\" name=\"twitter:description\"/>, <meta content=\"26 Best Free Education Website Templates [HTML &amp; WordPress] - Colorlib\" name=\"twitter:title\"/>, <meta content=\"@colorlib\" name=\"twitter:site\"/>, <meta content=\"https://colorlib.com/wp/wp-content/uploads/sites/2/free-education-website-templates.jpg\" name=\"twitter:image\"/>, <meta content=\"@colorlib\" name=\"twitter:creator\"/>, <meta content=\"always\" name=\"referrer\"/>]\n",
      "NAME    : description\n",
      "CONTENT : Following are the best free education website template for any type of educational institutions and education service providing businesses.\n"
     ]
    }
   ],
   "source": [
    "from bs4 import BeautifulSoup\n",
    "import requests\n",
    "\n",
    "\n",
    "def main():\n",
    "    #r = requests.get('http://www.aurionpro.com/')\n",
    "    r = requests.get('https://colorlib.com/wp/free-education-website-templates/')\n",
    "    soup = BeautifulSoup(r.content, \"html\")\n",
    "\n",
    "    title = soup.title.string\n",
    "    print ('TITLE IS :', title)\n",
    "\n",
    "    meta = soup.find_all('meta')\n",
    "    print(meta)\n",
    "\n",
    "    for tag in meta:\n",
    "        if 'name' in tag.attrs.keys() and tag.attrs['name'].strip().lower() in ['description', 'keywords']:\n",
    "            print( 'NAME    :',tag.attrs['name'].lower())\n",
    "            print('CONTENT :',tag.attrs['content'])\n",
    "\n",
    "if __name__ == '__main__':\n",
    "    main()"
   ]
  },
  {
   "cell_type": "code",
   "execution_count": 7,
   "metadata": {},
   "outputs": [
    {
     "ename": "TypeError",
     "evalue": "'NoneType' object is not subscriptable",
     "output_type": "error",
     "traceback": [
      "\u001b[1;31m---------------------------------------------------------------------------\u001b[0m",
      "\u001b[1;31mTypeError\u001b[0m                                 Traceback (most recent call last)",
      "\u001b[1;32m<ipython-input-7-54a289a96ada>\u001b[0m in \u001b[0;36m<module>\u001b[1;34m\u001b[0m\n\u001b[0;32m     34\u001b[0m     \u001b[1;31m# Grabs the title from the image title attribute\u001b[0m\u001b[1;33m\u001b[0m\u001b[1;33m\u001b[0m\u001b[1;33m\u001b[0m\u001b[0m\n\u001b[0;32m     35\u001b[0m     \u001b[1;31m# Then does proper casing using .title()\u001b[0m\u001b[1;33m\u001b[0m\u001b[1;33m\u001b[0m\u001b[1;33m\u001b[0m\u001b[0m\n\u001b[1;32m---> 36\u001b[1;33m     \u001b[0mbrand\u001b[0m \u001b[1;33m=\u001b[0m \u001b[0mmake_rating_sp\u001b[0m\u001b[1;33m[\u001b[0m\u001b[1;36m0\u001b[0m\u001b[1;33m]\u001b[0m\u001b[1;33m.\u001b[0m\u001b[0mimg\u001b[0m\u001b[1;33m[\u001b[0m\u001b[1;34m\"title\"\u001b[0m\u001b[1;33m]\u001b[0m\u001b[1;33m.\u001b[0m\u001b[0mtitle\u001b[0m\u001b[1;33m(\u001b[0m\u001b[1;33m)\u001b[0m\u001b[1;33m\u001b[0m\u001b[1;33m\u001b[0m\u001b[0m\n\u001b[0m\u001b[0;32m     37\u001b[0m \u001b[1;33m\u001b[0m\u001b[0m\n\u001b[0;32m     38\u001b[0m     \u001b[1;31m# Grabs the text within the second \"(a)\" tag from within\u001b[0m\u001b[1;33m\u001b[0m\u001b[1;33m\u001b[0m\u001b[1;33m\u001b[0m\u001b[0m\n",
      "\u001b[1;31mTypeError\u001b[0m: 'NoneType' object is not subscriptable"
     ]
    }
   ],
   "source": [
    "from bs4 import BeautifulSoup as soup  # HTML data structure\n",
    "from urllib.request import urlopen as uReq  # Web client\n",
    "\n",
    "# URl to web scrap from.\n",
    "# in this example we web scrap graphics cards from Newegg.com\n",
    "page_url = \"http://www.newegg.com/Product/ProductList.aspx?Submit=ENE&N=-1&IsNodeId=1&Description=GTX&bop=And&Page=1&PageSize=36&order=BESTMATCH\"\n",
    "\n",
    "# opens the connection and downloads html page from url\n",
    "uClient = uReq(page_url)\n",
    "\n",
    "# parses html into a soup data structure to traverse html\n",
    "# as if it were a json data type.\n",
    "page_soup = soup(uClient.read(), \"html.parser\")\n",
    "uClient.close()\n",
    "\n",
    "# finds each product from the store page\n",
    "containers = page_soup.findAll(\"div\", {\"class\": \"item-container\"})\n",
    "\n",
    "# name the output file to write to local disk\n",
    "out_filename = \"graphics_cards.csv\"\n",
    "# header of csv file to be written\n",
    "headers = \"brand,product_name,shipping \\n\"\n",
    "\n",
    "# opens file, and writes headers\n",
    "f = open(out_filename, \"w\")\n",
    "f.write(headers)\n",
    "\n",
    "# loops over each product and grabs attributes about\n",
    "# each product\n",
    "for container in containers:\n",
    "    # Finds all link tags \"a\" from within the first div.\n",
    "    make_rating_sp = container.div.select(\"a\")\n",
    "\n",
    "    # Grabs the title from the image title attribute\n",
    "    # Then does proper casing using .title()\n",
    "    brand = make_rating_sp[0].img[\"title\"].title()\n",
    "\n",
    "    # Grabs the text within the second \"(a)\" tag from within\n",
    "    # the list of queries.\n",
    "    product_name = container.div.select(\"a\")[2].text\n",
    "\n",
    "    # Grabs the product shipping information by searching\n",
    "    # all lists with the class \"price-ship\".\n",
    "    # Then cleans the text of white space with strip()\n",
    "    # Cleans the strip of \"Shipping $\" if it exists to just get number\n",
    "    shipping = container.findAll(\"li\", {\"class\": \"price-ship\"})[0].text.strip().replace(\"$\", \"\").replace(\" Shipping\", \"\")\n",
    "\n",
    "    # prints the dataset to console\n",
    "    print(\"brand: \" + brand + \"\\n\")\n",
    "    print(\"product_name: \" + product_name + \"\\n\")\n",
    "    print(\"shipping: \" + shipping + \"\\n\")\n",
    "\n",
    "    # writes the dataset to file\n",
    "    f.write(brand + \", \" + product_name.replace(\",\", \"|\") + \", \" + shipping + \"\\n\")\n",
    "\n",
    "f.close()  # Close the file\n"
   ]
  },
  {
   "cell_type": "code",
   "execution_count": null,
   "metadata": {},
   "outputs": [],
   "source": []
  }
 ],
 "metadata": {
  "kernelspec": {
   "display_name": "Python 3",
   "language": "python",
   "name": "python3"
  },
  "language_info": {
   "codemirror_mode": {
    "name": "ipython",
    "version": 3
   },
   "file_extension": ".py",
   "mimetype": "text/x-python",
   "name": "python",
   "nbconvert_exporter": "python",
   "pygments_lexer": "ipython3",
   "version": "3.7.3"
  }
 },
 "nbformat": 4,
 "nbformat_minor": 2
}
